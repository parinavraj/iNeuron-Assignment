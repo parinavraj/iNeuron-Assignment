{
 "cells": [
  {
   "cell_type": "markdown",
   "id": "1ac3e3d4-aa1d-46ac-9d6e-6b7d0756d68d",
   "metadata": {},
   "source": [
    "# Assignment 6th"
   ]
  },
  {
   "cell_type": "markdown",
   "id": "556fbece-f2f1-4fc6-a638-5c37447378d5",
   "metadata": {},
   "source": [
    "Q) 1. What are escape characters, and how do you use them?"
   ]
  },
  {
   "cell_type": "markdown",
   "id": "42f35cba-fdd3-45ce-a2f8-2a871efd4f7b",
   "metadata": {},
   "source": [
    "Ans.- Escape characters represent characters in string values that would otherwise be difficult or impossible to type into code. we can use the backslash character to escape a single character or symbol\n"
   ]
  },
  {
   "cell_type": "markdown",
   "id": "f555fcd9-3db3-47a5-8ee3-dcfc69b1f816",
   "metadata": {},
   "source": [
    "eg:- \\t, \\r"
   ]
  },
  {
   "cell_type": "markdown",
   "id": "944ea4d3-41f8-4d9e-8461-ce81d69638a2",
   "metadata": {},
   "source": [
    "Q) 2. What do the escape characters n and t stand for?"
   ]
  },
  {
   "cell_type": "markdown",
   "id": "69ceaea0-f015-447c-a596-db6e6fa157c8",
   "metadata": {},
   "source": [
    "Ans:- /n = Prints the succeeding part of \\n even if in the same line, in a new line\n",
    "      /t = Gives a tab space equivalent to 8 normal spaces."
   ]
  },
  {
   "cell_type": "markdown",
   "id": "32777b04-16f0-47ef-b8f3-e53e610ae782",
   "metadata": {},
   "source": [
    "Q) 3. What is the way to include backslash characters in a string?"
   ]
  },
  {
   "cell_type": "markdown",
   "id": "d493a852-77e3-4266-9504-538c340139a8",
   "metadata": {},
   "source": [
    "Ans:- The \\\\ escape character will represent the backslash character in a string"
   ]
  },
  {
   "cell_type": "markdown",
   "id": "104f1590-2379-40b5-83c4-776c1968fc8a",
   "metadata": {},
   "source": [
    "Q) 4. The string \"Howl's Moving Castle\" is a correct value. Why isn't the single quote character in the word Howl's not escaped a problem?"
   ]
  },
  {
   "cell_type": "markdown",
   "id": "99a27ace-7aff-4529-bf13-4e6e3b8af485",
   "metadata": {},
   "source": [
    "Ans:- The string \"Howl's Moving Castle\" escaped the problem because it is wrapped inside double quotes. if its wrapped inside single quotes then we have to use escape character \\' to show single quote in the final output"
   ]
  },
  {
   "cell_type": "markdown",
   "id": "d4c6ef3d-d284-4ff5-b464-429745ffccfe",
   "metadata": {},
   "source": [
    "Q) 5. How do you write a string of newlines if you don't want to use the n character?"
   ]
  },
  {
   "cell_type": "markdown",
   "id": "38b52ae7-4660-40ce-903d-eb69fe74aec2",
   "metadata": {},
   "source": [
    "Ans:- Multiline string allow you to use newlines in string without the \\n escape character"
   ]
  },
  {
   "cell_type": "code",
   "execution_count": 2,
   "id": "e88fdf92-16ff-40d1-a0bb-ece121bc5dac",
   "metadata": {},
   "outputs": [
    {
     "name": "stdout",
     "output_type": "stream",
     "text": [
      "Parinav Raj\n",
      "From LNCT, Bhopal\n"
     ]
    }
   ],
   "source": [
    "# eg:\n",
    "data = '''Parinav Raj\n",
    "From LNCT, Bhopal'''\n",
    "print(data)"
   ]
  },
  {
   "cell_type": "markdown",
   "id": "3784e99d-3e87-4d11-8aa9-39a374c78a8d",
   "metadata": {},
   "source": [
    "Q) 6. What are the values of the given expressions?"
   ]
  },
  {
   "cell_type": "raw",
   "id": "ad5861f5-e59e-4c41-a030-396ec4f2de79",
   "metadata": {},
   "source": [
    "'Hello, world!'[1]\n",
    "'Hello, world!'[0:5]\n",
    "'Hello, world!'[:5]\n",
    "'Hello, world!'[3:]"
   ]
  },
  {
   "cell_type": "code",
   "execution_count": 7,
   "id": "9c89fbad-ae96-432e-b645-29f9c874f104",
   "metadata": {},
   "outputs": [],
   "source": [
    "# The values of given expression are below"
   ]
  },
  {
   "cell_type": "code",
   "execution_count": 3,
   "id": "eaa9a33b-17c3-4c45-8e90-a8ebb7d2d76c",
   "metadata": {},
   "outputs": [
    {
     "data": {
      "text/plain": [
       "'e'"
      ]
     },
     "execution_count": 3,
     "metadata": {},
     "output_type": "execute_result"
    }
   ],
   "source": [
    "'Hello, world!'[1]"
   ]
  },
  {
   "cell_type": "code",
   "execution_count": 4,
   "id": "95486d3a-bb17-4246-9a68-95f6e900cab9",
   "metadata": {},
   "outputs": [
    {
     "data": {
      "text/plain": [
       "'Hello'"
      ]
     },
     "execution_count": 4,
     "metadata": {},
     "output_type": "execute_result"
    }
   ],
   "source": [
    "'Hello, world!'[0:5]"
   ]
  },
  {
   "cell_type": "code",
   "execution_count": 5,
   "id": "55127862-22f1-4445-9c69-7a340b3e8f8f",
   "metadata": {},
   "outputs": [
    {
     "data": {
      "text/plain": [
       "'Hello'"
      ]
     },
     "execution_count": 5,
     "metadata": {},
     "output_type": "execute_result"
    }
   ],
   "source": [
    "'Hello, world!'[:5]"
   ]
  },
  {
   "cell_type": "code",
   "execution_count": 6,
   "id": "b39d62ec-cd70-4a36-b77b-8955303d549f",
   "metadata": {},
   "outputs": [
    {
     "data": {
      "text/plain": [
       "'lo, world!'"
      ]
     },
     "execution_count": 6,
     "metadata": {},
     "output_type": "execute_result"
    }
   ],
   "source": [
    "'Hello, world!'[3:]"
   ]
  },
  {
   "cell_type": "markdown",
   "id": "3f348333-0d6d-4989-9742-8581cefba9ed",
   "metadata": {},
   "source": [
    "Q) 7. What are the values of the following expressions?"
   ]
  },
  {
   "cell_type": "raw",
   "id": "9ea82922-fbd8-47ea-a26d-af6ab0ccdad0",
   "metadata": {},
   "source": [
    "'Hello'.upper()\n",
    "'Hello'.upper().isupper()\n",
    "'Hello'.upper().lower()"
   ]
  },
  {
   "cell_type": "code",
   "execution_count": 8,
   "id": "87ed74f4-1415-4f7d-90e8-f0b3be06fbfb",
   "metadata": {},
   "outputs": [],
   "source": [
    "# The value of these expression are"
   ]
  },
  {
   "cell_type": "code",
   "execution_count": 9,
   "id": "e5db64ee-80a2-43e5-8d98-d9513e58a2d2",
   "metadata": {},
   "outputs": [
    {
     "data": {
      "text/plain": [
       "'HELLO'"
      ]
     },
     "execution_count": 9,
     "metadata": {},
     "output_type": "execute_result"
    }
   ],
   "source": [
    "'Hello'.upper()"
   ]
  },
  {
   "cell_type": "code",
   "execution_count": 10,
   "id": "24a8409d-15c0-4e0e-a1f2-d94b7d6899d3",
   "metadata": {},
   "outputs": [
    {
     "data": {
      "text/plain": [
       "True"
      ]
     },
     "execution_count": 10,
     "metadata": {},
     "output_type": "execute_result"
    }
   ],
   "source": [
    "'Hello'.upper().isupper()"
   ]
  },
  {
   "cell_type": "code",
   "execution_count": 11,
   "id": "0a2f90bd-2b2f-4e1c-99fb-569061795bb2",
   "metadata": {},
   "outputs": [
    {
     "data": {
      "text/plain": [
       "'hello'"
      ]
     },
     "execution_count": 11,
     "metadata": {},
     "output_type": "execute_result"
    }
   ],
   "source": [
    "'Hello'.upper().lower()"
   ]
  },
  {
   "cell_type": "markdown",
   "id": "a9dc07d5-c10d-4fc1-8976-a4e4358bb92e",
   "metadata": {},
   "source": [
    "Q) 8. What are the values of the following expressions?"
   ]
  },
  {
   "cell_type": "markdown",
   "id": "7dbc6042-df50-44f3-8cc9-4aa719202514",
   "metadata": {},
   "source": [
    "'Remember, remember, the fifth of July.'.split()"
   ]
  },
  {
   "cell_type": "markdown",
   "id": "d6ee4fa5-9b75-49ee-8327-3eade46170f3",
   "metadata": {},
   "source": [
    "'-'.join('There can only one.'.split())"
   ]
  },
  {
   "cell_type": "code",
   "execution_count": 14,
   "id": "b4cd2920-7629-448c-bbd2-831ac631a4e9",
   "metadata": {},
   "outputs": [],
   "source": [
    "# The value of these expression are"
   ]
  },
  {
   "cell_type": "code",
   "execution_count": 12,
   "id": "a34f635a-07ab-4947-9f7e-9848469e5663",
   "metadata": {},
   "outputs": [
    {
     "data": {
      "text/plain": [
       "['Remember,', 'remember,', 'the', 'fifth', 'of', 'July.']"
      ]
     },
     "execution_count": 12,
     "metadata": {},
     "output_type": "execute_result"
    }
   ],
   "source": [
    "'Remember, remember, the fifth of July.'.split()"
   ]
  },
  {
   "cell_type": "code",
   "execution_count": 13,
   "id": "42b65c71-2628-40a8-a7b7-ac84ebfd75fa",
   "metadata": {},
   "outputs": [
    {
     "data": {
      "text/plain": [
       "'There-can-only-one.'"
      ]
     },
     "execution_count": 13,
     "metadata": {},
     "output_type": "execute_result"
    }
   ],
   "source": [
    "'-'.join('There can only one.'.split())"
   ]
  },
  {
   "cell_type": "markdown",
   "id": "70db557b-3cd0-463e-8220-a748b5e1b4ec",
   "metadata": {},
   "source": [
    "Q) 9. What are the methods for right-justifying, left-justifying, and centering a string?"
   ]
  },
  {
   "cell_type": "markdown",
   "id": "a28f9b54-603b-4306-8f4f-c174e90d32e9",
   "metadata": {},
   "source": [
    "Ans:- The method for right-justifying = rjust(),\n",
    "                     left-justifying = ljust(),\n",
    "                     centering = center()"
   ]
  },
  {
   "cell_type": "markdown",
   "id": "7c240ecf-067a-4c6f-a8aa-b174c0a34f87",
   "metadata": {},
   "source": [
    "Q) 10. What is the best way to remove whitespace characters from the start or end?"
   ]
  },
  {
   "cell_type": "markdown",
   "id": "97279e32-d9f8-4aa4-8755-13b5c5069d01",
   "metadata": {},
   "source": [
    " Ans:- lstrip() and rstrip() is the best way to remove whitespace characters from the start or end. "
   ]
  },
  {
   "cell_type": "code",
   "execution_count": null,
   "id": "7d123797-fe4c-4f38-bb59-058d10d3277b",
   "metadata": {},
   "outputs": [],
   "source": []
  }
 ],
 "metadata": {
  "kernelspec": {
   "display_name": "Python 3 (ipykernel)",
   "language": "python",
   "name": "python3"
  },
  "language_info": {
   "codemirror_mode": {
    "name": "ipython",
    "version": 3
   },
   "file_extension": ".py",
   "mimetype": "text/x-python",
   "name": "python",
   "nbconvert_exporter": "python",
   "pygments_lexer": "ipython3",
   "version": "3.9.7"
  }
 },
 "nbformat": 4,
 "nbformat_minor": 5
}
